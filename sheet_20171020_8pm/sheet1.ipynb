{
 "cells": [
  {
   "cell_type": "markdown",
   "metadata": {},
   "source": [
    "# Exercise Sheet 1: Python Basics\n",
    "\n",
    "This first  exercise sheet tests the basic functionalities of the Python programming language in the context of a simple prediction task. We consider the problem of predicting health risk of subjects from personal data and habits. We first use for this task a decision tree\n",
    "\n",
    "![](tree.png)\n",
    "\n",
    "adapted from the webpage http://www.refactorthis.net/post/2013/04/10/Machine-Learning-tutorial-How-to-create-a-decision-tree-in-RapidMiner-using-the-Titanic-passenger-data-set.aspx. For this exercise sheet, you are required to use only pure Python, and to not import any module, including numpy. In exercise sheet 2, the nearest neighbor part of this exercise sheet will be revisited with numpy."
   ]
  },
  {
   "cell_type": "markdown",
   "metadata": {},
   "source": [
    "## Classifying a single instance (15 P)\n",
    "\n",
    "* Create a function that takes as input a tuple containing values for attributes (smoker,age,diet), and computes the output of the decision tree.\n",
    "* Test your function on the tuple `('yes',31,'good')`,"
   ]
  },
  {
   "cell_type": "code",
   "execution_count": 17,
   "metadata": {
    "collapsed": false
   },
   "outputs": [
    {
     "name": "stdout",
     "output_type": "stream",
     "text": [
      "more\n"
     ]
    }
   ],
   "source": [
    "def evalRisk_by_decisionTree( tupleAttrs_smoker_age_diet ):\n",
    "    \n",
    "    stringSmoker = tupleAttrs_smoker_age_diet[0]    \n",
    "    booleanSmoker = stringSmoker == 'yes'\n",
    "    \n",
    "    numberAge = tupleAttrs_smoker_age_diet[1]\n",
    "    booleanOld = numberAge >=29.5\n",
    "    \n",
    "    stringDiet = tupleAttrs_smoker_age_diet[2]\n",
    "    booleanGoodDiet = stringDiet == 'good'\n",
    "\n",
    "    if booleanSmoker:\n",
    "        \n",
    "        if booleanOld:\n",
    "            stringRisk = 'more'\n",
    "        else:#booleanOld\n",
    "            stringRisk = 'less'\n",
    "    \n",
    "    else:#booleanSmoker\n",
    "        \n",
    "        if booleanGoodDiet:\n",
    "            stringRisk = 'less'\n",
    "        else:#booleanGoodDiet\n",
    "            stringRisk = 'more'\n",
    "    \n",
    "    return stringRisk\n",
    "\n",
    "tupleTestArg = ('yes',31,'good')\n",
    "\n",
    "print evalRisk_by_decisionTree( tupleTestArg )"
   ]
  },
  {
   "cell_type": "markdown",
   "metadata": {},
   "source": [
    "## Reading a dataset from a text file (10 P)\n",
    "\n",
    "The file `health-test.txt` contains several fictious records of personal data and habits.\n",
    "\n",
    "* Read the file automatically using the methods introduced during the lecture.\n",
    "* Represent the dataset as a list of tuples."
   ]
  },
  {
   "cell_type": "code",
   "execution_count": 9,
   "metadata": {
    "collapsed": false,
    "scrolled": true
   },
   "outputs": [
    {
     "name": "stdout",
     "output_type": "stream",
     "text": [
      "[('yes', 21.0, 'poor'), ('no', 50.0, 'good'), ('no', 23.0, 'good'), ('yes', 45.0, 'poor'), ('yes', 51.0, 'good'), ('no', 60.0, 'good'), ('no', 15.0, 'poor'), ('no', 18.0, 'good')]\n"
     ]
    }
   ],
   "source": [
    "file_health_attrs = open('./health-test.txt','r')\n",
    "\n",
    "list_of_attrsToEval = []\n",
    "\n",
    "for string_health_attrs in file_health_attrs:\n",
    "    \n",
    "    tuple_stringAttrs = str.split( string_health_attrs[:-1],',' )\n",
    "    \n",
    "    stringSmoker = tuple_stringAttrs[0]\n",
    "    stringAge = tuple_stringAttrs[1]\n",
    "    numberAge = float(stringAge)\n",
    "    stringDiet = tuple_stringAttrs[2]\n",
    "    \n",
    "    tuple_attrs = ( stringSmoker, numberAge , stringDiet )\n",
    "    \n",
    "    list_of_attrsToEval.append( tuple_attrs )\n",
    "\n",
    "print list_of_attrsToEval"
   ]
  },
  {
   "cell_type": "code",
   "execution_count": 3,
   "metadata": {
    "collapsed": false
   },
   "outputs": [
    {
     "name": "stdout",
     "output_type": "stream",
     "text": [
      "('yes', 21.0, 'poor')\n"
     ]
    }
   ],
   "source": [
    "print list_of_attrsToEval[0]"
   ]
  },
  {
   "cell_type": "markdown",
   "metadata": {},
   "source": [
    "## Applying the decision tree to the dataset (15 P)\n",
    "\n",
    "* Apply the decision tree to all points in the dataset, and compute the percentage of them that are classified as \"more risk\"."
   ]
  },
  {
   "cell_type": "code",
   "execution_count": 4,
   "metadata": {
    "collapsed": false
   },
   "outputs": [
    {
     "name": "stdout",
     "output_type": "stream",
     "text": [
      "['less risk', 'less risk', 'less risk', 'more risk', 'more risk', 'less risk', 'more risk', 'less risk']\n",
      "['more risk', 'more risk', 'more risk']\n",
      "percentage of more risk is 37.5%\n"
     ]
    }
   ],
   "source": [
    "list_of_risk_evals = map( evalRisk_by_decisionTree , list_of_attrsToEval )\n",
    "print list_of_risk_evals\n",
    "\n",
    "def is_more_risk( string ):\n",
    "    return string == 'more risk'\n",
    "\n",
    "list_of_more_risk = filter( is_more_risk , list_of_risk_evals )\n",
    "print list_of_more_risk\n",
    "\n",
    "print 'percentage of more risk is ' + str( float(len(list_of_more_risk))/len(list_of_risk_evals)*100 ) + '%'"
   ]
  },
  {
   "cell_type": "markdown",
   "metadata": {},
   "source": [
    "## Learning from examples (10 P)\n",
    "\n",
    "Suppose that instead of relying on a fixed decision tree, we would like to use a data-driven approach where data points are classified based on a set of training observations manually labeled by experts. Such labeled dataset is available in the file `health-train.txt`. The first three columns have the same meaning than for `health-test.txt`, and the last column corresponds to the labels.\n",
    "\n",
    "* Write a procedure that reads this file and converts it into a list of pairs. The first element of each pair is a triplet of attributes, and the second element is the label."
   ]
  },
  {
   "cell_type": "code",
   "execution_count": 10,
   "metadata": {
    "collapsed": false
   },
   "outputs": [
    {
     "name": "stdout",
     "output_type": "stream",
     "text": [
      "[(('yes', 54.0, 'good'), 'less'), (('no', 55.0, 'good'), 'less'), (('no', 26.0, 'good'), 'less'), (('yes', 40.0, 'good'), 'more'), (('yes', 25.0, 'poor'), 'less'), (('no', 13.0, 'poor'), 'more'), (('no', 15.0, 'good'), 'less'), (('no', 50.0, 'poor'), 'more'), (('yes', 33.0, 'good'), 'more'), (('no', 35.0, 'good'), 'less'), (('no', 41.0, 'good'), 'less'), (('yes', 30.0, 'poor'), 'more'), (('no', 39.0, 'poor'), 'more'), (('no', 20.0, 'good'), 'less'), (('yes', 18.0, 'poor'), 'less'), (('yes', 55.0, 'good'), 'more')]\n",
      "\n",
      "\n",
      "[('yes', 54.0, 'good'), ('no', 55.0, 'good'), ('no', 26.0, 'good'), ('yes', 40.0, 'good'), ('yes', 25.0, 'poor'), ('no', 13.0, 'poor'), ('no', 15.0, 'good'), ('no', 50.0, 'poor'), ('yes', 33.0, 'good'), ('no', 35.0, 'good'), ('no', 41.0, 'good'), ('yes', 30.0, 'poor'), ('no', 39.0, 'poor'), ('no', 20.0, 'good'), ('yes', 18.0, 'poor'), ('yes', 55.0, 'good')]\n",
      "\n",
      "\n",
      "['less', 'less', 'less', 'more', 'less', 'more', 'less', 'more', 'more', 'less', 'less', 'more', 'more', 'less', 'less', 'more']\n"
     ]
    }
   ],
   "source": [
    "file_attrs_and_eval = open('./health-train.txt','r')\n",
    "\n",
    "list_of_attrs_and_eval = []\n",
    "#dict_attrs_to_eval = {}\n",
    "\n",
    "for string_health_attrs in file_attrs_and_eval:\n",
    "    \n",
    "    list_smoker_age_diet_eval = str.split( string_health_attrs[:-1],',' )\n",
    "    \n",
    "    stringSmoker = list_smoker_age_diet_eval[0]\n",
    "    stringAge = list_smoker_age_diet_eval[1]\n",
    "    numberAge = float(stringAge)\n",
    "    stringDiet = list_smoker_age_diet_eval[2]\n",
    "    stringEval = list_smoker_age_diet_eval[3]\n",
    "\n",
    "    pair_attrs_and_eval = ( ( stringSmoker, numberAge , stringDiet ) , stringEval )\n",
    "    \n",
    "    list_of_attrs_and_eval.append( pair_attrs_and_eval )\n",
    "    \n",
    "    # dict cannot be used as a key.\n",
    "    #isSmoker = stringSmoker=='yes'\n",
    "    #isOnGoodDiet = stringDiet == 'good'\n",
    "    #attrs = { 'isSmoker':isSmoker , 'isOnGoodDiet':isOnGoodDiet , 'age':numberAge }\n",
    "    \n",
    "    #riskIsHigh = stringEval == 'more'\n",
    "    #dict_attrs_to_eval[attrs] = {'riskIsHigh':riskIsHigh }\n",
    "\n",
    "print list_of_attrs_and_eval\n",
    "print '\\n'\n",
    "\n",
    "list_of_attrs = map(lambda row:row[0],list_of_attrs_and_eval)\n",
    "list_of_evals = map(lambda row:row[1],list_of_attrs_and_eval)\n",
    "\n",
    "print list_of_attrs\n",
    "print '\\n'\n",
    "print list_of_evals\n",
    "#print dict_attrs_to_eval"
   ]
  },
  {
   "cell_type": "markdown",
   "metadata": {},
   "source": [
    "## Nearest neighbor classifier (25 P)\n",
    "\n",
    "We consider the nearest neighbor algorithm that classifies test points following the label of the nearest neighbor in the training data. For this, we need to define a distance function between data points. We define it to be\n",
    "\n",
    "`d(a,b) = (a[0]!=b[0])+((a[1]-b[1])/50.0)**2+(a[2]!=b[2])`\n",
    "\n",
    "where `a` and `b` are two tuples corrsponding to the attributes of two data points.\n",
    "\n",
    "* Write a function that retrieves for a test point the nearest neighbor in the training set, and classifies the test point accordingly.\n",
    "* Test your function on the tuple `('yes',31,'good')`"
   ]
  },
  {
   "cell_type": "code",
   "execution_count": 6,
   "metadata": {
    "collapsed": true
   },
   "outputs": [],
   "source": [
    "#TODO write less coupled code with methods 'getAttrs()', 'getEval()'\n",
    "#first preparations to do so here:\n",
    "class Entity:\n",
    "    \n",
    "    def __init__( self , dict_propName_to_propValue ):\n",
    "        self.setAttrs( dict_propName_to_propValue )\n",
    "        \n",
    "    def getAttrs(self):\n",
    "        return self.attrs\n",
    "\n",
    "    def setAttrs(self, dict_propName_to_propValue ):\n",
    "        self.attrs = dict_propName_to_propValue\n",
    "        \n",
    "    def setLabel( self , label ):\n",
    "        self.label = label\n",
    "        \n",
    "    def getLabel( self ):\n",
    "        return self.label"
   ]
  },
  {
   "cell_type": "code",
   "execution_count": 7,
   "metadata": {
    "collapsed": false
   },
   "outputs": [],
   "source": [
    "def get_distance_between_attrs( tupleAttrs1, tupleAttrs2 ):\n",
    "\n",
    "    smoker1 = tupleAttrs1[0]\n",
    "    smoker2 = tupleAttrs2[0]\n",
    "\n",
    "    age1 = tupleAttrs1[1]\n",
    "    age2 = tupleAttrs2[1]\n",
    "    \n",
    "    diet1 = tupleAttrs1[2]\n",
    "    diet2 = tupleAttrs2[2]\n",
    "\n",
    "    one_if_smoker_attr_unequal = (smoker1!=smoker2)\n",
    "    one_if_diet_attr_unequal   = (diet1!=diet2)\n",
    "    \n",
    "    distance = ((age1-age2)/50.)**2 + one_if_smoker_attr_unequal + one_if_diet_attr_unequal\n",
    "    \n",
    "    return distance"
   ]
  },
  {
   "cell_type": "code",
   "execution_count": 8,
   "metadata": {
    "collapsed": true
   },
   "outputs": [],
   "source": [
    "def get_nearest_attrs_from_listOfAttrs( listOfPossibleNeighborAttrs , fixedNeighborAttrs , funDistance ):\n",
    "    \n",
    "    dict_distance_to_possibleNeighborAttrs = {}\n",
    "    for possibleNeighborAttrs in listOfPossibleNeighborAttrs:\n",
    "        dict_distance_to_possibleNeighborAttrs[ funDistance( fixedNeighborAttrs , possibleNeighborAttrs ) ] = possibleNeighborAttrs\n",
    "    # TODO check if some 'arg min' solution is possible to be shorter.\n",
    "    distances = dict_distance_to_possibleNeighborAttrs.keys()\n",
    "    smallest_distance = sorted(distances)[0]\n",
    "    nearest_neighbor = dict_distance_to_possibleNeighborAttrs[ smallest_distance ]\n",
    "    return nearest_neighbor"
   ]
  },
  {
   "cell_type": "code",
   "execution_count": 13,
   "metadata": {
    "collapsed": false
   },
   "outputs": [],
   "source": [
    "def get_eval_of_attrs_from_listOfEvaledAttrs( fixedAttrs , listOfEvaledAttrs ):\n",
    "    list_of_attrs = map( lambda row:row[0] , listOfEvaledAttrs )\n",
    "    list_of_evals = map( lambda row:row[1] , listOfEvaledAttrs )\n",
    "    listOfAttrsOfPossibleNeighbors = list_of_attrs\n",
    "    nearest_attrs = get_nearest_attrs_from_listOfAttrs( listOfAttrsOfPossibleNeighbors , fixedAttrs , get_distance_between_attrs )\n",
    "    indexOfAttrsNearestNeighbor = list_of_attrs.index( nearest_attrs )\n",
    "    indexOfNearestEval = indexOfAttrsNearestNeighbor\n",
    "    evalOfFixedNeighbor_deducedFromHumanEvaledSamples = list_of_evals[ indexOfNearestEval ]\n",
    "    return evalOfFixedNeighbor_deducedFromHumanEvaledSamples\n",
    "\n",
    "def get_fun_eval_attrs( listOfEvaledAttrs ):\n",
    "    return lambda attrs: get_eval_of_attrs_from_listOfEvaledAttrs( attrs , listOfEvaledAttrs )\n",
    "\n",
    "evalRisk_by_trainingSet = get_fun_eval_attrs( list_of_attrs_and_eval )"
   ]
  },
  {
   "cell_type": "code",
   "execution_count": 14,
   "metadata": {
    "collapsed": false
   },
   "outputs": [
    {
     "name": "stdout",
     "output_type": "stream",
     "text": [
      "more\n"
     ]
    }
   ],
   "source": [
    "attrsFixedNeighbor = ('yes',31,'good')\n",
    "print get_eval_of_attrs_from_listOfEvaledAttrs( attrsFixedNeighbor , list_of_attrs_and_eval )"
   ]
  },
  {
   "cell_type": "markdown",
   "metadata": {},
   "source": [
    "* Apply both the decision tree and nearest neighbor classifiers on the test set, and find the data point(s) for which the two classifiers disagree, and with which probability it happens."
   ]
  },
  {
   "cell_type": "code",
   "execution_count": 25,
   "metadata": {
    "collapsed": false
   },
   "outputs": [
    {
     "name": "stdout",
     "output_type": "stream",
     "text": [
      "['less', 'less', 'less', 'more', 'more', 'less', 'more', 'less']\n",
      "['less', 'less', 'less', 'more', 'less', 'less', 'more', 'less']\n",
      "[4]\n",
      "[('yes', 51.0, 'good')]\n"
     ]
    }
   ],
   "source": [
    "list_of_evalsByDecisionTree = map( evalRisk_by_decisionTree , list_of_attrsToEval )\n",
    "list_of_evalsByTrainingSet = map( evalRisk_by_trainingSet , list_of_attrsToEval )\n",
    "\n",
    "print list_of_evalsByDecisionTree\n",
    "print list_of_evalsByTrainingSet\n",
    "\n",
    "indicesDisagreed = [ i for i in range(len(list_of_evalsByDecisionTree)) if list_of_evalsByDecisionTree[i] != list_of_evalsByTrainingSet[i]]\n",
    "print indicesDisagreed\n",
    "attrsDisagreed = [ list_of_attrsToEval[indexDisagreed] for indexDisagreed in indicesDisagreed ]\n",
    "print attrsDisagreed"
   ]
  },
  {
   "cell_type": "markdown",
   "metadata": {},
   "source": [
    "One problem of simple nearest neighbors is that one needs to compare the point to predict to all data points in the training set. This can be slow for datasets of thousands of points or more. Alternatively, some classifiers train a model first, and then use it to classify the data.\n",
    "\n",
    "## Nearest mean classifier (25 P)\n",
    "\n",
    "We consider one such trainable model, which operates in two steps:\n",
    "\n",
    "(1) Compute the average point for each class, (2) classify new points to be of the class whose average point is nearest to the point to predict.\n",
    "\n",
    "For this classifier, we convert the attributes smoker and diet to real values (for smoker: yes=1.0 and no=0.0, and for diet: good=0.0 and poor=1.0), and use the modified distance function:\n",
    "\n",
    "`d(a,b) = (a[0]-b[0])**2+((a[1]-b[1])/50.0)**2+(a[2]-b[2])**2`\n",
    "\n",
    "We adopt an object-oriented approach for building this classifier.\n",
    "\n",
    "* Implement the methods `train` and `predict` of the class `NearestMeanClassifier`."
   ]
  },
  {
   "cell_type": "code",
   "execution_count": 14,
   "metadata": {
    "collapsed": false
   },
   "outputs": [],
   "source": [
    "def distance_between_attrs_sum_of_squares(tupleOfAttrs1,tupleOfAttrs2):\n",
    "    \n",
    "    smoker1 = tupleAttrs1[0]\n",
    "    smoker2 = tupleAttrs2[0]\n",
    "\n",
    "    age1 = tupleAttrs1[1]\n",
    "    age2 = tupleAttrs2[1]\n",
    "    \n",
    "    diet1 = tupleAttrs1[2]\n",
    "    diet2 = tupleAttrs2[2]\n",
    "\n",
    "    one_if_smoker1 = 1. if smoker1=='yes' else 0.\n",
    "    one_if_smoker2 = 1. if smoker2=='yes' else 0.\n",
    "    \n",
    "    one_if_dietGood1 = 1. if diet1=='poor' else 0.\n",
    "    one_if_dietGood2 = 1. if diet2=='poor' else 0.\n",
    "    \n",
    "    distance = ((age1-age2)/50.)**2 + (one_if_smoker1-one_if_smoker2)**2 \\\n",
    "                                    + (one_if_dietGood1-one_if_dietGood2)**2\n",
    "    \n",
    "    return distance    \n",
    "    \n",
    "class NearestMeanClassifier:\n",
    "    \n",
    "    get_distance_between_attrs = lambda : None\n",
    "    \n",
    "    #get the mean component wise.\n",
    "    def get_mean_from_listOfAttrs( self , listOfAttrs ):\n",
    "        listOfNorms = [ self.get_distance_between_attrs(attr,attr) ]\n",
    "        mean = \n",
    "        return mean\n",
    "    \n",
    "    # Training method that takes as input a dataset\n",
    "    # and produces two internal vectors corresponding\n",
    "    # to the mean of each class.\n",
    "    def train(self,list_of_attrs_and_eval):\n",
    "        listOfAttrs = map(lambda row:row[0],list_of_attrs_and_eval)\n",
    "        listOfEvals = map(lambda row:row[1],list_of_attrs_and_eval)\n",
    "        setOfEvals = set(listOfEvals)\n",
    "        listOfNamesOfClasses = list(setOfEvals)\n",
    "        dict_className_to_listOfItsAttrs = { nameOfClass:[ attrs_and_eval[0] for attrs_and_eval in list_of_attrs_and_eval if attrs_and_eval[1]==nameOfClass ] for nameOfClass in listOfNamesOfClasses }\n",
    "        \n",
    "        dict_className_to_meanOfItsAttrs = {}\n",
    "        \n",
    "        for className in listOfNamesOfClasses:\n",
    "        \n",
    "            for listOfAttrsOfSingleClass in dict_className_to_listOfItsAttrs[className]:\n",
    "                \n",
    "                listOfAttrsOfSingleClass_numerically = []\n",
    "        \n",
    "                for tupleOfAttrs_strings in listOfAttrsOfSingleClass:\n",
    "                    \n",
    "                    smokerString = tupleOfAttrs_strings[0]\n",
    "                    ageNumber = tupleOfAttrs_strings[1]\n",
    "                    dietString = tupleOfAttrs_strings[2]\n",
    "                    \n",
    "                    smokerNumber = 1. if smokerString == 'yes' else 0.\n",
    "                    dietNumber = 1. if dietString == 'poor' else 0.\n",
    "                    \n",
    "                    attrsNumerically = (smokerNumber,ageNumber,dietNumber)\n",
    "                    \n",
    "                    listOfAttrsOfSingleClass_numerically.append( attrsNumerically )\n",
    "                    \n",
    "                listOfListsOfSingleAttrOfSingleClass = [  for indexAttr in len(listOfAttrsOfSingleClass[0]) ]\n",
    "                listOfMeanAttrsOfSingleClass = [ for ]\n",
    "            \n",
    "        dict_className_to_meanOfItsAttrs = { nameOfClass:( [indexAttr] for indexAttr in range(len(attrs)) ) for attrs in dict_className_to_listOfItsAttrs[className] for className in listOfNamesOfClasses }\n",
    "        \n",
    "        \n",
    "        \n",
    "    # Prediction method that takes as input a new data\n",
    "    # point and predicts it to belong to the class with\n",
    "    # nearest mean.\n",
    "    def predict(self,x):\n",
    "        ### Replace by your own code\n",
    "        pass\n",
    "        ###\n",
    "    \n",
    "    def __init__( self , fun_get_distance_between_attrs ):\n",
    "        self.get_distance_between_attrs = fun_get_distance_between_attrs\n",
    "    \n",
    "    dict_nameOfClass_to_meanOfClass = {}\n"
   ]
  },
  {
   "cell_type": "code",
   "execution_count": 11,
   "metadata": {
    "collapsed": false
   },
   "outputs": [
    {
     "name": "stdout",
     "output_type": "stream",
     "text": [
      "hi\n"
     ]
    }
   ],
   "source": [
    "classifier = NearestMeanClassifier( distance_between_attrs_sum_of_squares )\n",
    "classifier.train( list_of_attrs_and_eval )"
   ]
  },
  {
   "cell_type": "code",
   "execution_count": 25,
   "metadata": {
    "collapsed": false
   },
   "outputs": [
    {
     "name": "stdout",
     "output_type": "stream",
     "text": [
      "[0, 1, 2, 3, 4, 5, 6]\n"
     ]
    }
   ],
   "source": [
    "t = [ i for i in range(7) ]\n",
    "print t"
   ]
  },
  {
   "cell_type": "markdown",
   "metadata": {},
   "source": [
    "* Build an object of class `NearestMeanClassifier`, train it on the training data, and print the mean vector for each class."
   ]
  },
  {
   "cell_type": "code",
   "execution_count": null,
   "metadata": {
    "collapsed": false
   },
   "outputs": [],
   "source": [
    "### Replace by your own code\n",
    "import solutions\n",
    "solutions.exercise6a()\n",
    "###"
   ]
  },
  {
   "cell_type": "markdown",
   "metadata": {},
   "source": [
    "* Predict the test data using the nearest mean classifier and print all test examples for which all three classifiers (decision tree, nearest neighbor and nearest mean) agree."
   ]
  },
  {
   "cell_type": "code",
   "execution_count": null,
   "metadata": {
    "collapsed": false
   },
   "outputs": [],
   "source": [
    "### Replace by your own code\n",
    "import solutions\n",
    "solutions.exercise6b()\n",
    "###"
   ]
  }
 ],
 "metadata": {
  "kernelspec": {
   "display_name": "Python 2",
   "language": "python",
   "name": "python2"
  },
  "language_info": {
   "codemirror_mode": {
    "name": "ipython",
    "version": 2
   },
   "file_extension": ".py",
   "mimetype": "text/x-python",
   "name": "python",
   "nbconvert_exporter": "python",
   "pygments_lexer": "ipython2",
   "version": "2.7.12"
  }
 },
 "nbformat": 4,
 "nbformat_minor": 0
}
