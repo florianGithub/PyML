{
 "cells": [
  {
   "cell_type": "markdown",
   "metadata": {},
   "source": [
    "# Exercise Sheet 3: Sampling, Simulation"
   ]
  },
  {
   "cell_type": "markdown",
   "metadata": {},
   "source": [
    "In this exercise sheet, we will simulate a Markov chain. In the first part, we will consider a pure Python based implementation where a single particle jumps from one position to another of the lattice, where all transitions to neighboring states have the same probability. Then, we will add probability weightings for the transitions. Finally, the implementation will be parallelized to run many chains in parallel."
   ]
  },
  {
   "cell_type": "code",
   "execution_count": 2,
   "metadata": {
    "collapsed": true
   },
   "outputs": [],
   "source": [
    "%matplotlib inline"
   ]
  },
  {
   "cell_type": "markdown",
   "metadata": {
    "collapsed": true
   },
   "source": [
    "## Exercise 1: Random moves in a lattice (20 P)\n",
    "\n",
    "In this exercise, we will simulate the propagation of particles in a graph composed of 8 states (denoted by letters A-H) and stored in the variable `S` defined in the cell below. The lattice is the following:\n",
    "\n",
    "![](lattice.png)\n",
    "\n",
    "The particle starts in state `A` and then jumps randomly from its current state to one of its neighbors, all with same probability. Note that it cannot stay at the current position. The dictionary `T` defined in the cell below encode such transition behavior."
   ]
  },
  {
   "cell_type": "code",
   "execution_count": 3,
   "metadata": {
    "collapsed": true
   },
   "outputs": [],
   "source": [
    "# List of states\n",
    "S = 'ABCDEFGH'\n",
    "\n",
    "# Set of transitions\n",
    "T = {'A':'BE','B':'AFC','C':'BGD','D':'CH','E':'AF','F':'EBG','G':'FCH','H':'GD'}"
   ]
  },
  {
   "cell_type": "markdown",
   "metadata": {},
   "source": [
    "Using pure Python, simulate the experiment below and run it for 1999 iterations. Print the sequence of first 400 states visited by the particle.  To obtain the same results as in `pdf` solution file, you should initialize the seed of the module `random` to value `123` using the function `random.seed` before starting the simulation."
   ]
  },
  {
   "cell_type": "code",
   "execution_count": 4,
   "metadata": {
    "collapsed": true
   },
   "outputs": [],
   "source": [
    "import random\n",
    "import matplotlib.pyplot as plt\n",
    "import numpy as np\n",
    "\n",
    "#substitute meaningless variable names with meaningful variable names. start.\n",
    "states = list(S)\n",
    "dict_stateNow_to_statesPossNext = T\n",
    "#substitute meaningless variable names with meaningful variable names. stop.\n",
    "\n",
    "def getNextState(curState,dict_stateNow_to_statesPossNext):\n",
    "    key = curState    \n",
    "    value = dict_stateNow_to_statesPossNext[key]\n",
    "    statesPossNext = list(value)\n",
    "    nextState = random.choice( statesPossNext )\n",
    "    return nextState\n",
    "\n",
    "stateStart = 'A'\n",
    "\n",
    "random.seed(123)\n",
    "nRuns = 1999\n",
    "\n",
    "statesOverTime = [ stateStart ]\n"
   ]
  },
  {
   "cell_type": "code",
   "execution_count": 5,
   "metadata": {
    "collapsed": false
   },
   "outputs": [
    {
     "name": "stdout",
     "output_type": "stream",
     "text": [
      "ABABAEAEAEABFEABAEABFGFEFEFBAEFBCBFBCBFGCDHDHGHGFGFGHDCGCBFBFEAEABAEFGCDHDCGFGCDCBABFEABABFEABFEFBCBFGCGCDHGHDCBAEAEFEFGHGFGCGHGFEFBCDHDCDCGHDCGCGHGFBABFGFEAEFEFEABFGHDHGHDCDHGCBFEFGHDCDCBCGHGCDCDHGHGCGHGCGHGFGFGFBAEFEFEAEAEFGFGFEFGCBCBCDCDCDHDCGHGCDCBABFBFEAEFGHGHGFEAEABCBCGHGCDCGCBABAEAEAEFEFGHGFEAEFEABABAEAEAEABAEFEAEFEFEAEAEFBABCDCBFGFGFEABCGFEABCGHDHGCDCBABCDCBCBAEFBCDHGCDCGHDHGHGCDHGHDCBFGFB\n",
      "len(statesOverTime_concatenated) = 400\n",
      "len(statesOverTime_roleModel)    = 400\n",
      "our solution is matching role model = False\n"
     ]
    }
   ],
   "source": [
    "for iRun in range(nRuns):\n",
    "    curState = statesOverTime[ -1 ]\n",
    "    nextState = getNextState(curState,dict_stateNow_to_statesPossNext)\n",
    "    statesOverTime.append(nextState)\n",
    "    \n",
    "statesOverTime_roleModel = 'ABABAEFBAEFBFEFBAEFEFGFEABCGFGHGHGCGHGCDHDHDHGHGFGFGHDCGCBFBFEFBABAEAEAEAEFBAEFG\\\n",
    "FEFEFEFBABFEFEABCGHGCDCGCDHGHDCBAEFBFEAEABAEAEABABCGHDHDCDCGHDCGCGHGFBABFGFEFGHG\\\n",
    "CBABFGHDHGHDCDHGCBFEAEAEFGFEABCGCDCDHGHGCGHGCGHGFGFGFBAEABFEFBAEAEFGFEAEFEABCDCD\\\n",
    "CDHDCGHGCDCBABFBFEFBCDHGHGFEFBABCBCGHGCDCGCBABAEFGFBFEAEABABAEABABABAEFBFGCBAEAB\\\n",
    "FGCBFEFGFGHDCBCDCBFGFGFEFBCGFEFEABCDHGCDCBABCDCBCBAEAEAEABFGCGHDHGHGCDHGHDCBFGFB'\n",
    "\n",
    "statesOverTime_concatenated = ''.join(statesOverTime[0:400])\n",
    "print statesOverTime_concatenated\n",
    "print 'len(statesOverTime_concatenated) = ' + str(len(statesOverTime_concatenated))\n",
    "print 'len(statesOverTime_roleModel)    = ' + str(len(statesOverTime_roleModel))\n",
    "print 'our solution is matching role model = '+str( statesOverTime_roleModel == statesOverTime_concatenated )"
   ]
  },
  {
   "cell_type": "markdown",
   "metadata": {},
   "source": [
    "Using `matplotlib`, produce a bar plot (`matplotlib.pyplot.bar`) showing the fraction of the time the particle is found in a given state, averaged over the whole simulation."
   ]
  },
  {
   "cell_type": "code",
   "execution_count": 7,
   "metadata": {
    "collapsed": false
   },
   "outputs": [
    {
     "data": {
      "text/plain": [
       "([<matplotlib.axis.XTick at 0x8b02ef0>,\n",
       "  <matplotlib.axis.XTick at 0x8bc0240>,\n",
       "  <matplotlib.axis.XTick at 0x8c70f60>,\n",
       "  <matplotlib.axis.XTick at 0x8f3e4a8>,\n",
       "  <matplotlib.axis.XTick at 0x8f3eb00>,\n",
       "  <matplotlib.axis.XTick at 0x8f49198>,\n",
       "  <matplotlib.axis.XTick at 0x8f497f0>,\n",
       "  <matplotlib.axis.XTick at 0x8f49e48>],\n",
       " <a list of 8 Text xticklabel objects>)"
      ]
     },
     "execution_count": 7,
     "metadata": {},
     "output_type": "execute_result"
    },
    {
     "data": {
      "image/png": "[encoded data removed]",
      "text/plain": [
       "<matplotlib.figure.Figure at 0x8d4ffd0>"
      ]
     },
     "metadata": {},
     "output_type": "display_data"
    }
   ],
   "source": [
    "fracsOfTimeStateXAccepted = [ statesOverTime.count(state)/float(len(statesOverTime)) for state in states ]\n",
    "plt.bar( range(len(states)) , fracsOfTimeStateXAccepted, align='center' )\n",
    "plt.xticks(range(len(states)),states )"
   ]
  },
  {
   "cell_type": "markdown",
   "metadata": {
    "collapsed": true
   },
   "source": [
    "## Exercise 2: Adding a special state (20 P)\n",
    "\n",
    "Suppose now that the rule is modified such that everytime the particle is in state `F`, it always moves to `E` in the next step.\n",
    "\n",
    "* Modify the code to handle this special case, and create a bar plot for the new states distribution."
   ]
  },
  {
   "cell_type": "code",
   "execution_count": 53,
   "metadata": {
    "collapsed": false
   },
   "outputs": [],
   "source": [
    "dict_stateNow_to_statesPossNext_specialStateF = dict_stateNow_to_statesPossNext\n",
    "dict_stateNow_to_statesPossNext_specialStateF['F'] = 'E'\n",
    "\n",
    "statesOverTime_specialStateF = [stateStart]\n",
    "\n",
    "for iRun in range(nRuns):\n",
    "    curState = statesOverTime_specialStateF[ -1 ]\n",
    "    nextState = getNextState(curState,dict_stateNow_to_statesPossNext_specialStateF)\n",
    "    statesOverTime_specialStateF.append(nextState)"
   ]
  },
  {
   "cell_type": "code",
   "execution_count": 54,
   "metadata": {
    "collapsed": false
   },
   "outputs": [
    {
     "data": {
      "text/plain": [
       "<Container object of 8 artists>"
      ]
     },
     "execution_count": 54,
     "metadata": {},
     "output_type": "execute_result"
    },
    {
     "data": {
      "image/png": "[encoded data removed]",
      "text/plain": [
       "<matplotlib.figure.Figure at 0x9597400>"
      ]
     },
     "metadata": {},
     "output_type": "display_data"
    }
   ],
   "source": [
    "fracsOfTimeStateXAccepted = [ statesOverTime_specialStateF.count(state)/float(len(statesOverTime_specialStateF)) for state in states ]\n",
    "plt.bar( range(len(states)) , fracsOfTimeStateXAccepted )"
   ]
  },
  {
   "cell_type": "markdown",
   "metadata": {},
   "source": [
    "## Exercise 3: Exact solution to the previous exercise (20 P)\n",
    "\n",
    "For simple Markov chains, a number of statistics can be obtained analytically from the structure of the transition model, in particular, by analysis of the transition matrix.\n",
    "\n",
    "* Compute the transition matrices associated to the models of exercise 1 and 2 (make sure that each row in these matrices sums to 1).\n",
    "* Give the transition matrices as argument to the function `utils.getstationary(P)` and print their result.\n",
    "\n",
    "This last function computes in closed form the stationary distribution associated to a given transition matrix `P` (i.e. the one we would get if running the simulation with such transition matrix for infinitely many time steps and looking at state frequencies)."
   ]
  },
  {
   "cell_type": "code",
   "execution_count": 55,
   "metadata": {
    "collapsed": false
   },
   "outputs": [
    {
     "ename": "TypeError",
     "evalue": "data type not understood",
     "output_type": "error",
     "traceback": [
      "\u001b[1;31m---------------------------------------------------------------------------\u001b[0m",
      "\u001b[1;31mTypeError\u001b[0m                                 Traceback (most recent call last)",
      "\u001b[1;32m<ipython-input-55-4dc19e7ed291>\u001b[0m in \u001b[0;36m<module>\u001b[1;34m()\u001b[0m\n\u001b[0;32m      9\u001b[0m     \u001b[1;32mreturn\u001b[0m \u001b[0mtMatRow\u001b[0m\u001b[1;33m\u001b[0m\u001b[0m\n\u001b[0;32m     10\u001b[0m \u001b[1;33m\u001b[0m\u001b[0m\n\u001b[1;32m---> 11\u001b[1;33m \u001b[0mtMat\u001b[0m \u001b[1;33m=\u001b[0m \u001b[0mnp\u001b[0m\u001b[1;33m.\u001b[0m\u001b[0mmatrix\u001b[0m\u001b[1;33m(\u001b[0m \u001b[1;33m[\u001b[0m \u001b[0mgetProbsToAcceptStateC_after_stateR\u001b[0m\u001b[1;33m(\u001b[0m \u001b[0mstate\u001b[0m \u001b[1;33m,\u001b[0m \u001b[0mdict_stateNow_to_statesPossNext\u001b[0m \u001b[1;33m)\u001b[0m \u001b[1;32mfor\u001b[0m \u001b[0mstate\u001b[0m \u001b[1;32min\u001b[0m \u001b[0mstates\u001b[0m \u001b[1;33m]\u001b[0m \u001b[1;33m)\u001b[0m\u001b[1;33m\u001b[0m\u001b[0m\n\u001b[0m\u001b[0;32m     12\u001b[0m \u001b[1;32mprint\u001b[0m \u001b[0mtMat\u001b[0m\u001b[1;33m\u001b[0m\u001b[0m\n",
      "\u001b[1;32m<ipython-input-55-4dc19e7ed291>\u001b[0m in \u001b[0;36mgetProbsToAcceptStateC_after_stateR\u001b[1;34m(stateR, dict_stateNow_to_statesPossNext)\u001b[0m\n\u001b[0;32m      5\u001b[0m     \u001b[0mprob\u001b[0m \u001b[1;33m=\u001b[0m \u001b[1;36m1.\u001b[0m\u001b[1;33m/\u001b[0m\u001b[0mlen\u001b[0m\u001b[1;33m(\u001b[0m\u001b[0mstatesPossNext\u001b[0m\u001b[1;33m)\u001b[0m\u001b[1;33m\u001b[0m\u001b[0m\n\u001b[0;32m      6\u001b[0m     \u001b[0mindicesStatesPossNext\u001b[0m \u001b[1;33m=\u001b[0m \u001b[1;33m[\u001b[0m \u001b[0mstates\u001b[0m\u001b[1;33m.\u001b[0m\u001b[0mindex\u001b[0m\u001b[1;33m(\u001b[0m \u001b[0mstatePossNext\u001b[0m \u001b[1;33m)\u001b[0m \u001b[1;32mfor\u001b[0m \u001b[0mstatePossNext\u001b[0m \u001b[1;32min\u001b[0m \u001b[0mstatesPossNext\u001b[0m \u001b[1;33m]\u001b[0m\u001b[1;33m\u001b[0m\u001b[0m\n\u001b[1;32m----> 7\u001b[1;33m     \u001b[0mtMatRow\u001b[0m \u001b[1;33m=\u001b[0m \u001b[0mnp\u001b[0m\u001b[1;33m.\u001b[0m\u001b[0mzeros\u001b[0m\u001b[1;33m(\u001b[0m\u001b[1;36m1\u001b[0m\u001b[1;33m,\u001b[0m\u001b[0mlen\u001b[0m\u001b[1;33m(\u001b[0m\u001b[0mstatesPossNext\u001b[0m\u001b[1;33m)\u001b[0m\u001b[1;33m)\u001b[0m\u001b[1;33m\u001b[0m\u001b[0m\n\u001b[0m\u001b[0;32m      8\u001b[0m     \u001b[0mtMatRow\u001b[0m\u001b[1;33m[\u001b[0m\u001b[0mindicesStatesPossNext\u001b[0m\u001b[1;33m]\u001b[0m \u001b[1;33m=\u001b[0m \u001b[0mnp\u001b[0m\u001b[1;33m.\u001b[0m\u001b[0mones\u001b[0m\u001b[1;33m(\u001b[0m\u001b[1;36m1\u001b[0m\u001b[1;33m,\u001b[0m\u001b[0mlen\u001b[0m\u001b[1;33m(\u001b[0m\u001b[0mindicesStatesPossNext\u001b[0m\u001b[1;33m)\u001b[0m\u001b[1;33m)\u001b[0m \u001b[1;33m*\u001b[0m \u001b[0mprob\u001b[0m\u001b[1;33m\u001b[0m\u001b[0m\n\u001b[0;32m      9\u001b[0m     \u001b[1;32mreturn\u001b[0m \u001b[0mtMatRow\u001b[0m\u001b[1;33m\u001b[0m\u001b[0m\n",
      "\u001b[1;31mTypeError\u001b[0m: data type not understood"
     ]
    }
   ],
   "source": [
    "# transition matrix contains probability to transit from state indexRow to state indexCol.\n",
    "def getProbsToAcceptStateC_after_stateR( stateR , dict_stateNow_to_statesPossNext ):\n",
    "    stateNow = stateR\n",
    "    statesPossNext = dict_stateNow_to_statesPossNext[stateNow]\n",
    "    prob = 1./len(statesPossNext)\n",
    "    indicesStatesPossNext = [ states.index( statePossNext ) for statePossNext in statesPossNext ]\n",
    "    tMatRow = np.zeros(1,len(statesPossNext))\n",
    "    tMatRow[indicesStatesPossNext] = np.ones(1,len(indicesStatesPossNext)) * prob\n",
    "    return tMatRow\n",
    "\n",
    "tMat = np.matrix( [ getProbsToAcceptStateC_after_stateR( state , dict_stateNow_to_statesPossNext ) for state in states ] )\n",
    "print tMat"
   ]
  },
  {
   "cell_type": "markdown",
   "metadata": {},
   "source": [
    "## Exercise 4: Adding non-uniform transition probabilities (20 P)\n",
    "\n",
    "We consider the original lattice defined by the variable `T`. We set transition probabilities for each state to be such that: (1) the probability of moving left is always twice the probability of moving right when both moves are available. (2) The probability of moving vertically is the same as the probability of moving horizontally.\n",
    "\n",
    "* Build the transition matrix `P` implementing the described behavior, and compute its stationary distribution using the function `utils.getstationary(P)`.\n",
    "\n",
    "(Hints: You can notice that for each state, the transitions towards other states are always listed from left to right in the dictionary `T`. Also note that characters A-H can be mapped to integer values using the Python function ord(), thus, giving a direct relation between state names and indices of the transition matrix.)"
   ]
  },
  {
   "cell_type": "code",
   "execution_count": null,
   "metadata": {
    "collapsed": false
   },
   "outputs": [],
   "source": [
    "### Replace by your own code\n",
    "import solutions\n",
    "solutions.exercise4()\n",
    "###"
   ]
  },
  {
   "cell_type": "markdown",
   "metadata": {},
   "source": [
    "## Exercise 5: Simulation for multiple particles (20 P)\n",
    "\n",
    "We let 1000 particles evolve simultaneously in the system described in Exercise 4. The initial state of these particles is pseudo-random and given by the function `utils.getinitialstate()`.\n",
    "\n",
    "* Using the function `utils.mcstep()` that was introduced during the lecture, simulate this system for 500 time steps.\n",
    "* Estimate the stationary distribution by looking at the distribution of these particles in state space after 500 time steps.\n",
    "\n",
    "For reproducibility, give seed values to the function utils.mcstep corresponding to the current time step of the simulation (i.e. from 0 to 499)."
   ]
  },
  {
   "cell_type": "code",
   "execution_count": null,
   "metadata": {
    "collapsed": false
   },
   "outputs": [],
   "source": [
    "### Replace by your own code\n",
    "import solutions\n",
    "solutions.exercise5()\n",
    "###"
   ]
  }
 ],
 "metadata": {
  "anaconda-cloud": {},
  "kernelspec": {
   "display_name": "Python 2",
   "language": "python",
   "name": "python2"
  },
  "language_info": {
   "codemirror_mode": {
    "name": "ipython",
    "version": 2
   },
   "file_extension": ".py",
   "mimetype": "text/x-python",
   "name": "python",
   "nbconvert_exporter": "python",
   "pygments_lexer": "ipython2",
   "version": "2.7.12"
  }
 },
 "nbformat": 4,
 "nbformat_minor": 0
}
