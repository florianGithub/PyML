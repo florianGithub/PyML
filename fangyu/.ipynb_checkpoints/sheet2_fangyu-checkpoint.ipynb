{
 "cells": [
  {
   "cell_type": "code",
   "execution_count": 1,
   "metadata": {
    "collapsed": false
   },
   "outputs": [
    {
     "ename": "ImportError",
     "evalue": "No module named data",
     "output_type": "error",
     "traceback": [
      "\u001b[1;31m---------------------------------------------------------------------------\u001b[0m",
      "\u001b[1;31mImportError\u001b[0m                               Traceback (most recent call last)",
      "\u001b[1;32m<ipython-input-1-07baa478a651>\u001b[0m in \u001b[0;36m<module>\u001b[1;34m()\u001b[0m\n\u001b[0;32m      2\u001b[0m \u001b[1;32mfrom\u001b[0m \u001b[0mmatplotlib\u001b[0m \u001b[1;32mimport\u001b[0m \u001b[0mpyplot\u001b[0m \u001b[1;32mas\u001b[0m \u001b[0mplt\u001b[0m\u001b[1;33m\u001b[0m\u001b[0m\n\u001b[0;32m      3\u001b[0m \u001b[1;32mimport\u001b[0m \u001b[0mtime\u001b[0m\u001b[1;33m\u001b[0m\u001b[0m\n\u001b[1;32m----> 4\u001b[1;33m \u001b[1;32mimport\u001b[0m \u001b[0mdata\u001b[0m\u001b[1;33m\u001b[0m\u001b[0m\n\u001b[0m\u001b[0;32m      5\u001b[0m \u001b[1;32mimport\u001b[0m \u001b[0mex2\u001b[0m\u001b[1;33m\u001b[0m\u001b[0m\n\u001b[0;32m      6\u001b[0m \u001b[1;33m\u001b[0m\u001b[0m\n",
      "\u001b[1;31mImportError\u001b[0m: No module named data"
     ]
    }
   ],
   "source": [
    "import matplotlib\n",
    "from matplotlib import pyplot as plt\n",
    "import time\n",
    "import data\n",
    "import ex2\n",
    "\n",
    "def pydistance(x1,x2):\n",
    "\treturn sum([(x1d-x2d)**2 for x1d,x2d in zip(x1,x2)])\n",
    "\n",
    "def pynearest(u,X,Y,distance=pydistance):\n",
    "\txbest = None\n",
    "\tybest = None\n",
    "\tdbest = float('inf')\n",
    "\tfor x,y in zip(X,Y):\n",
    "\t\td = distance(u,x)\n",
    "\t\tif d < dbest:\n",
    "\t\t\tybest = y\n",
    "\t\t\txbest = x\n",
    "\t\t\tdbest = d\n",
    "\treturn ybest\n",
    "\n",
    "\n",
    "def pybatch(U,X,Y,nearest=pynearest,distance=pydistance):\n",
    "\treturn [nearest(u,X,Y,distance=distance) for u in U]\n",
    "\n",
    "U,X,Y = data.toy(20,100,50)"
   ]
  },
  {
   "cell_type": "code",
   "execution_count": null,
   "metadata": {
    "collapsed": false
   },
   "outputs": [],
   "source": [
    "print(pybatch(U,X,Y))\n",
    "print(pybatch(U,X,Y, distance=ex2.npdistance))\n",
    "print(pybatch(U,X,Y, nearest=ex2.npnearest))"
   ]
  },
  {
   "cell_type": "code",
   "execution_count": null,
   "metadata": {
    "collapsed": false
   },
   "outputs": [],
   "source": [
    "%matplotlib inline\n",
    "from IPython.display import set_matplotlib_formats\n",
    "set_matplotlib_formats('pdf', 'png')\n",
    "plt.rcParams['savefig.dpi'] = 90\n",
    "\n",
    "# Values for the number of dimensions d to test\n",
    "dlist = [1, 2, 5, 10, 20, 50, 100, 200, 500, 1000]\n",
    "# Measure the computation time for each choice of number of dimensions d\n",
    "tlist = []\n",
    "for d in dlist:\n",
    "\tU,X,Y = data.toy(100,100,d)\n",
    "\ta = time.clock()\n",
    "\tpybatch(U,X,Y)\n",
    "\tb = time.clock()\n",
    "\ttlist += [b-a]\n",
    "\n",
    "nptlist = []\n",
    "for d in dlist:\n",
    "\tU,X,Y = data.toy(100,100,d)\n",
    "\ta = time.clock()\n",
    "\tpybatch(U,X,Y,distance=ex2.npdistance)\n",
    "\tb = time.clock()\n",
    "\tnptlist += [b-a]\n",
    "\n",
    "# Plot the results in a graph\n",
    "plt.figure(figsize=(5,3))\n",
    "plt.plot(dlist, tlist,'-o', color='blue', label='pybatch+pynearest+pydistance')\n",
    "plt.plot(dlist, nptlist,'-o', color='green', label='pybatch+pynearest+npdistance')\n",
    "plt.xscale('log');plt.yscale('log'); plt.xlabel('N'); plt.ylabel('time'); plt.grid(True)\n",
    "plt.legend()"
   ]
  },
  {
   "cell_type": "code",
   "execution_count": null,
   "metadata": {
    "collapsed": false
   },
   "outputs": [],
   "source": [
    "npnn_tlist = []\n",
    "for d in dlist:\n",
    "\tU,X,Y = data.toy(100,100,d)\n",
    "\ta = time.clock()\n",
    "\tpybatch(U,X,Y,nearest=ex2.npnearest, distance=ex2.npdistance)\n",
    "\tb = time.clock()\n",
    "\tnpnn_tlist += [b-a]\n",
    "\n",
    "# Plot the results in a graph\n",
    "plt.figure(figsize=(5,3))\n",
    "#plt.plot(dlist, tlist,'-o', color='blue', label='pybatch+pynearest+pydistance')\n",
    "plt.plot(dlist, npnn_tlist,'-o', color='red', label='pybatch+npnearest')\n",
    "plt.plot(dlist, nptlist,'-o', color='green', label='pybatch+pynearest+npdistance')\n",
    "plt.xscale('log');plt.yscale('log'); plt.xlabel('N'); plt.ylabel('time'); plt.grid(True)\n",
    "plt.legend()"
   ]
  },
  {
   "cell_type": "code",
   "execution_count": null,
   "metadata": {
    "collapsed": true
   },
   "outputs": [],
   "source": []
  }
 ],
 "metadata": {
  "kernelspec": {
   "display_name": "Python 2",
   "language": "python",
   "name": "python2"
  },
  "language_info": {
   "codemirror_mode": {
    "name": "ipython",
    "version": 2
   },
   "file_extension": ".py",
   "mimetype": "text/x-python",
   "name": "python",
   "nbconvert_exporter": "python",
   "pygments_lexer": "ipython2",
   "version": "2.7.12"
  }
 },
 "nbformat": 4,
 "nbformat_minor": 2
}
